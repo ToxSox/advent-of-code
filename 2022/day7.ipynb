{
 "cells": [
  {
   "cell_type": "code",
   "execution_count": 101,
   "id": "ac3f6c3a",
   "metadata": {},
   "outputs": [],
   "source": [
    "class Dir(object):\n",
    "    def __init__(self, name='/', children=None):\n",
    "        self.name = name\n",
    "        self.children = []\n",
    "        if children is not None:\n",
    "            for child in children:\n",
    "                self.add_child(child)\n",
    "    def __repr__(self):\n",
    "        return self.name\n",
    "    def add_child(self, node):\n",
    "        self.children.append(node)\n",
    "        \n",
    "class File(object):\n",
    "    def __init__(self, name='new file', size=0):\n",
    "        self.name = name\n",
    "        self.size = size\n",
    "    def __repr__(self):\n",
    "        return self.name + \" (\" + str(self.size) + \" bytes)\""
   ]
  },
  {
   "cell_type": "code",
   "execution_count": 102,
   "id": "9b7d894d",
   "metadata": {},
   "outputs": [],
   "source": [
    "root = Dir()\n",
    "b = File(\"test.mp3\",21123)"
   ]
  },
  {
   "cell_type": "code",
   "execution_count": 103,
   "id": "28b27fe4",
   "metadata": {},
   "outputs": [],
   "source": [
    "input_str = \"\"\"\\\n",
    "$ cd /\n",
    "$ ls\n",
    "dir a\n",
    "14848514 b.txt\n",
    "8504156 c.dat\n",
    "dir d\n",
    "$ cd a\n",
    "$ ls\n",
    "dir e\n",
    "29116 f\n",
    "2557 g\n",
    "62596 h.lst\n",
    "$ cd e\n",
    "$ ls\n",
    "584 i\n",
    "$ cd ..\n",
    "$ cd ..\n",
    "$ cd d\n",
    "$ ls\n",
    "4060174 j\n",
    "8033020 d.log\n",
    "5626152 d.ext\n",
    "7214296 k\"\"\""
   ]
  },
  {
   "cell_type": "code",
   "execution_count": 104,
   "id": "837aac50",
   "metadata": {},
   "outputs": [],
   "source": [
    "commands = input_str.split(\"\\n\")\n",
    "i = 0"
   ]
  },
  {
   "cell_type": "code",
   "execution_count": 105,
   "id": "64cdd542",
   "metadata": {},
   "outputs": [],
   "source": [
    "current_dir = root"
   ]
  },
  {
   "cell_type": "code",
   "execution_count": 110,
   "id": "554826e1",
   "metadata": {},
   "outputs": [
    {
     "name": "stdout",
     "output_type": "stream",
     "text": [
      "$ cd ..\n"
     ]
    }
   ],
   "source": [
    "i += 1\n",
    "if commands[i] == \"$ ls\":\n",
    "    i += 1\n",
    "    while commands[i][0] != \"$\":\n",
    "        if commands[i][:3] == \"dir\":\n",
    "            #dir\n",
    "            di = Dir(commands[i][4:])\n",
    "            current_dir.add_child(di)\n",
    "        else:\n",
    "            #file\n",
    "            file = commands[i].split(\" \")\n",
    "            datei = File(file[1],file[0])\n",
    "            current_dir.add_child(datei)\n",
    "        i += 1\n",
    "elif commands[i][:5] == \"$ cd \":\n",
    "    print(commands[i])\n"
   ]
  },
  {
   "cell_type": "code",
   "execution_count": 100,
   "id": "746664c6",
   "metadata": {},
   "outputs": [
    {
     "data": {
      "text/plain": [
       "[a, b.txt (14848514 bytes), c.dat (8504156 bytes), d]"
      ]
     },
     "execution_count": 100,
     "metadata": {},
     "output_type": "execute_result"
    }
   ],
   "source": [
    "root.children"
   ]
  },
  {
   "cell_type": "code",
   "execution_count": null,
   "id": "6ba6bf22",
   "metadata": {},
   "outputs": [],
   "source": []
  },
  {
   "cell_type": "code",
   "execution_count": null,
   "id": "bcbe60ee",
   "metadata": {},
   "outputs": [],
   "source": []
  },
  {
   "cell_type": "code",
   "execution_count": null,
   "id": "75dad168",
   "metadata": {},
   "outputs": [],
   "source": []
  }
 ],
 "metadata": {
  "kernelspec": {
   "display_name": "Python 3",
   "language": "python",
   "name": "python3"
  },
  "language_info": {
   "codemirror_mode": {
    "name": "ipython",
    "version": 3
   },
   "file_extension": ".py",
   "mimetype": "text/x-python",
   "name": "python",
   "nbconvert_exporter": "python",
   "pygments_lexer": "ipython3",
   "version": "3.9.2"
  }
 },
 "nbformat": 4,
 "nbformat_minor": 5
}
